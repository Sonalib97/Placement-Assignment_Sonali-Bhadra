{
 "cells": [
  {
   "cell_type": "markdown",
   "id": "a1332975",
   "metadata": {},
   "source": [
    "# Question 2: "
   ]
  },
  {
   "cell_type": "markdown",
   "id": "afb7fb7b",
   "metadata": {},
   "source": [
    "Consider a string to be valid if all characters of the string appear the same number of times. It is also valid if he can remove just one character at the index in the string, and the remaining characters will occur the same number of times. Given a string, determine if it is valid. If so, return YES , otherwise return NO .\n",
    "\n",
    "Note - You have to write at least 2 additional test cases in which your program will run successfully and provide an explanation for the same.\n",
    "\n",
    "Example input 1 - s = “abc”. This is a valid string because frequencies are { “a”: 1, “b”: 1, “c”: 1 }\n",
    "\n",
    "Example output 1- YES\n",
    "\n",
    "Example input 2 - s “abcc”. This string is not valid as we can remove only 1 occurrence of “c”. That leaves character frequencies of { “a”: 1, “b”: 1 , “c”: 2 }\n",
    "\n",
    "Example output 2 - NO"
   ]
  },
  {
   "cell_type": "code",
   "execution_count": 1,
   "id": "0e5dbc65",
   "metadata": {},
   "outputs": [],
   "source": [
    "def check_valid():\n",
    "    string = input(\"String:\")\n",
    "    lists = list(string)\n",
    "    sets = set(string)\n",
    "    l = []\n",
    "    for i in sets:\n",
    "        count = 0\n",
    "        for x in lists:\n",
    "            if i == x:\n",
    "                count = count + 1\n",
    "        l.append(count)\n",
    "\n",
    "    unique = set(l)\n",
    "    new_l = []\n",
    "    if len(unique) == 1:\n",
    "        print(\"Yes\")\n",
    "    else:\n",
    "        maxx = max(unique)\n",
    "        for y in unique:\n",
    "            if y == maxx:\n",
    "                new_l.append(y)\n",
    "                continue\n",
    "            else:\n",
    "                if y == maxx-1:\n",
    "                    new_l.append(y+1)\n",
    "                    continue\n",
    "                else:\n",
    "                    new_l.append(y)\n",
    "        if len(set(new_l)) == 1:\n",
    "            print(\"Yes\")\n",
    "        else:\n",
    "            print(\"No\")"
   ]
  },
  {
   "cell_type": "code",
   "execution_count": 2,
   "id": "abc08036",
   "metadata": {},
   "outputs": [
    {
     "name": "stdout",
     "output_type": "stream",
     "text": [
      "String:abc\n",
      "Yes\n"
     ]
    }
   ],
   "source": [
    "#Test Case - 1\n",
    "check_valid()"
   ]
  },
  {
   "cell_type": "markdown",
   "id": "3f5eb45c",
   "metadata": {},
   "source": [
    "String is valid as all the characters have same frequency instances i.e. 1\n",
    "\n"
   ]
  },
  {
   "cell_type": "code",
   "execution_count": 3,
   "id": "19c57c90",
   "metadata": {},
   "outputs": [
    {
     "name": "stdout",
     "output_type": "stream",
     "text": [
      "String:abccc\n",
      "No\n"
     ]
    }
   ],
   "source": [
    "# Test Case - 2\n",
    "check_valid()"
   ]
  },
  {
   "cell_type": "markdown",
   "id": "4b8ed652",
   "metadata": {},
   "source": [
    "String is invalid as all instances have frequency 1 while \"c\" has a frequency of 3 which is not acceptable\n",
    "\n"
   ]
  },
  {
   "cell_type": "code",
   "execution_count": 4,
   "id": "cc92fd7e",
   "metadata": {},
   "outputs": [
    {
     "name": "stdout",
     "output_type": "stream",
     "text": [
      "String:aaabbcc\n",
      "Yes\n"
     ]
    }
   ],
   "source": [
    "#Test Case - 4\n",
    "check_valid()"
   ]
  },
  {
   "cell_type": "markdown",
   "id": "347cd59d",
   "metadata": {},
   "source": [
    "String is valid as all instances have frequency 2 except \"a\" but is acceptable as it is just one more than the others.\n",
    "\n"
   ]
  }
 ],
 "metadata": {
  "kernelspec": {
   "display_name": "Python 3",
   "language": "python",
   "name": "python3"
  },
  "language_info": {
   "codemirror_mode": {
    "name": "ipython",
    "version": 3
   },
   "file_extension": ".py",
   "mimetype": "text/x-python",
   "name": "python",
   "nbconvert_exporter": "python",
   "pygments_lexer": "ipython3",
   "version": "3.8.8"
  }
 },
 "nbformat": 4,
 "nbformat_minor": 5
}
